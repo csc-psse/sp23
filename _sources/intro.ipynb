{
 "cells": [
  {
   "cell_type": "markdown",
   "id": "711c25dd",
   "metadata": {},
   "source": [
    "# Start Here\n",
    "\n",
    "```` {admonition} Welcome!!\n",
    "\n",
    "``` {code-block} cpp\n",
    "#include <iostream>\n",
    "\n",
    "int main () {\n",
    "  std::cout << \"Hello Class!!\"\n",
    "            << \"Welcome to Probelm Solving for Science & Engineering\"\n",
    "            << \"Please review the syllabus, lectures, and assignments...\"\n",
    "            << \"The syllabus governs the course and the schedule.\"\n",
    "            << \"Action item links found in each respective week's landing page.\"\n",
    "  return 0; \n",
    "};\n",
    "```\n",
    "\n",
    "``` {list-table}\n",
    ":header-rows: 1\n",
    "* - Lecture\n",
    "  - Lab\n",
    "* - Asynchronous\n",
    "  - Tyler Hall 055 <br> {octicon}`calendar;1em;sd-text-info` Wednesday 4:30p - 6:15a\n",
    "```\n",
    "\n",
    "```{epigraph}\n",
    "I suppose it is tempting, if the only tool you have is a hammer, to treat everything as if it were a nail.\n",
    "\n",
    "-- Abraham Maslow, Toward a Psychology of Being\n",
    "```\n",
    "\n",
    "```{epigraph}\n",
    "The formulation of the problem is often more essential than its solution, which may be merely a matter of mathematical or experimental skill.\n",
    "\n",
    "-- Albert Einstein\n",
    "```\n",
    "\n",
    "```{epigraph}\n",
    "You are fantastic at problem-solving, but without wisdom, you can only see your victories, which means you cannot learn your defects.”\n",
    "\n",
    "-- Alexzander Christion, By the Hand of Dragons: Rook\n",
    "```\n",
    "````"
   ]
  }
 ],
 "metadata": {
  "jupytext": {
   "cell_metadata_filter": "-all",
   "formats": "md:myst",
   "text_representation": {
    "extension": ".md",
    "format_name": "myst",
    "format_version": 0.13,
    "jupytext_version": "1.11.5"
   }
  },
  "kernelspec": {
   "display_name": "Python 3",
   "language": "python",
   "name": "python3"
  },
  "language_info": {
   "codemirror_mode": {
    "name": "ipython",
    "version": 3
   },
   "file_extension": ".py",
   "mimetype": "text/x-python",
   "name": "python",
   "nbconvert_exporter": "python",
   "pygments_lexer": "ipython3",
   "version": "3.9.12"
  },
  "source_map": [
   14
  ]
 },
 "nbformat": 4,
 "nbformat_minor": 5
}